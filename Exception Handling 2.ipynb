{
 "cells": [
  {
   "cell_type": "markdown",
   "id": "358a4166-9454-4c08-a8fe-bbb24f663345",
   "metadata": {},
   "source": [
    " Q1. Explain why we have to use the Exception class while creating a Custom Exception"
   ]
  },
  {
   "cell_type": "markdown",
   "id": "2d2def92-7f2b-41f9-828b-4ac02c13abdf",
   "metadata": {},
   "source": [
    "Exception class as the base for custom exceptions to integrate seamlessly with Python's existing error-handling system. It ensures your custom exceptions have the same behavior as built-in ones, can be caught in try-except blocks, and inherit useful methods like __str__() for displaying error messages."
   ]
  },
  {
   "cell_type": "markdown",
   "id": "d884bbe9-ffb4-412f-9ba3-846a2640323b",
   "metadata": {},
   "source": [
    "Q2 Write a python program to print Python Exception Hierarchy."
   ]
  },
  {
   "cell_type": "code",
   "execution_count": 1,
   "id": "20723f0e-3a19-4a6b-9476-1fb76ddd7bc5",
   "metadata": {},
   "outputs": [
    {
     "name": "stdout",
     "output_type": "stream",
     "text": [
      "Exception\n",
      "GeneratorExit\n",
      "SystemExit\n",
      "KeyboardInterrupt\n",
      "CancelledError\n",
      "AbortThread\n"
     ]
    }
   ],
   "source": [
    "for exc in BaseException.__subclasses__():\n",
    "    print(exc.__name__)\n"
   ]
  },
  {
   "cell_type": "markdown",
   "id": "49daca28-a63d-48be-9722-b766c0d4f120",
   "metadata": {},
   "source": [
    "Q3. What errors are defined in the ArithmeticError class? Explain any two with an example."
   ]
  },
  {
   "cell_type": "markdown",
   "id": "00d8f47a-c1ef-46fe-83c3-85020ad95257",
   "metadata": {},
   "source": [
    "The Errors are defined in arithmetic error class is Zero division error ,overflow error ,value error,floatingpoint error\n"
   ]
  },
  {
   "cell_type": "code",
   "execution_count": 2,
   "id": "dfdf4e2f-9205-4aa2-9c3e-36a3c88caed2",
   "metadata": {},
   "outputs": [
    {
     "ename": "ZeroDivisionError",
     "evalue": "division by zero",
     "output_type": "error",
     "traceback": [
      "\u001b[0;31m---------------------------------------------------------------------------\u001b[0m",
      "\u001b[0;31mZeroDivisionError\u001b[0m                         Traceback (most recent call last)",
      "Cell \u001b[0;32mIn[2], line 2\u001b[0m\n\u001b[1;32m      1\u001b[0m \u001b[38;5;66;03m#example of any two error is\u001b[39;00m\n\u001b[0;32m----> 2\u001b[0m result \u001b[38;5;241m=\u001b[39m \u001b[38;5;241;43m10\u001b[39;49m\u001b[43m \u001b[49m\u001b[38;5;241;43m/\u001b[39;49m\u001b[43m \u001b[49m\u001b[38;5;241;43m0\u001b[39;49m  \u001b[38;5;66;03m# Raises ZeroDivisionError\u001b[39;00m\n",
      "\u001b[0;31mZeroDivisionError\u001b[0m: division by zero"
     ]
    }
   ],
   "source": [
    "#example of any two error is\n",
    "result = 10 / 0  # zerodivisionerror\n",
    "# Dividing any number by zero is mathematically undefined, so Python raises a ZeroDivisionError\n"
   ]
  },
  {
   "cell_type": "code",
   "execution_count": 4,
   "id": "385748de-3a02-424f-9868-7503c1f20a48",
   "metadata": {},
   "outputs": [
    {
     "ename": "OverflowError",
     "evalue": "math range error",
     "output_type": "error",
     "traceback": [
      "\u001b[0;31m---------------------------------------------------------------------------\u001b[0m",
      "\u001b[0;31mOverflowError\u001b[0m                             Traceback (most recent call last)",
      "Cell \u001b[0;32mIn[4], line 2\u001b[0m\n\u001b[1;32m      1\u001b[0m \u001b[38;5;28;01mimport\u001b[39;00m \u001b[38;5;21;01mmath\u001b[39;00m\n\u001b[0;32m----> 2\u001b[0m result \u001b[38;5;241m=\u001b[39m \u001b[43mmath\u001b[49m\u001b[38;5;241;43m.\u001b[39;49m\u001b[43mexp\u001b[49m\u001b[43m(\u001b[49m\u001b[38;5;241;43m1000\u001b[39;49m\u001b[43m)\u001b[49m \u001b[38;5;66;03m#overflowerror\u001b[39;00m\n",
      "\u001b[0;31mOverflowError\u001b[0m: math range error"
     ]
    }
   ],
   "source": [
    "import math\n",
    "result = math.exp(1000) #overflowerror\n",
    "# The math.exp(1000) operation attempts to calculate an exponential that exceeds the floating-point number range, leading to an OverflowError."
   ]
  },
  {
   "cell_type": "markdown",
   "id": "cf77e7fe-1e93-49a5-865e-62199013b5ab",
   "metadata": {},
   "source": [
    " Q4. Why LookupError class is used? Explain with an example KeyError and IndexError."
   ]
  },
  {
   "cell_type": "markdown",
   "id": "f4f7bb19-4469-4353-a1df-437009d434ca",
   "metadata": {},
   "source": [
    "The LookupError class allows you to handle both KeyError and IndexError (and similar exceptions) in a single except block if needed. This is useful when you want to catch any type of lookup-related error without specifying the exact type."
   ]
  },
  {
   "cell_type": "code",
   "execution_count": 7,
   "id": "fd64aa8f-539f-4143-9b42-6b2754d9564d",
   "metadata": {},
   "outputs": [
    {
     "ename": "KeyError",
     "evalue": "'c'",
     "output_type": "error",
     "traceback": [
      "\u001b[0;31m---------------------------------------------------------------------------\u001b[0m",
      "\u001b[0;31mKeyError\u001b[0m                                  Traceback (most recent call last)",
      "Cell \u001b[0;32mIn[7], line 4\u001b[0m\n\u001b[1;32m      1\u001b[0m \u001b[38;5;66;03m#key error example\u001b[39;00m\n\u001b[1;32m      3\u001b[0m my_dict \u001b[38;5;241m=\u001b[39m {\u001b[38;5;124m'\u001b[39m\u001b[38;5;124ma\u001b[39m\u001b[38;5;124m'\u001b[39m: \u001b[38;5;241m1\u001b[39m, \u001b[38;5;124m'\u001b[39m\u001b[38;5;124mb\u001b[39m\u001b[38;5;124m'\u001b[39m: \u001b[38;5;241m2\u001b[39m}\n\u001b[0;32m----> 4\u001b[0m value \u001b[38;5;241m=\u001b[39m \u001b[43mmy_dict\u001b[49m\u001b[43m[\u001b[49m\u001b[38;5;124;43m'\u001b[39;49m\u001b[38;5;124;43mc\u001b[39;49m\u001b[38;5;124;43m'\u001b[39;49m\u001b[43m]\u001b[49m\n",
      "\u001b[0;31mKeyError\u001b[0m: 'c'"
     ]
    }
   ],
   "source": [
    "#key error example\n",
    "\n",
    "my_dict = {'a': 1, 'b': 2}\n",
    "value = my_dict['c']\n"
   ]
  },
  {
   "cell_type": "markdown",
   "id": "b8f6145d-4282-4f37-a787-190d01f0e5ad",
   "metadata": {},
   "source": [
    "trying to access the key 'c' in my_dict raises a KeyError because the key does not exist in the dictionary."
   ]
  },
  {
   "cell_type": "markdown",
   "id": "bf35e1d4-787c-4472-8acd-d31968cc9c17",
   "metadata": {},
   "source": [
    "#index error\n",
    "my_list = [10, 20, 30]\n",
    "value = my_list[5]  \n"
   ]
  },
  {
   "cell_type": "markdown",
   "id": "e793f907-5883-4b6b-b3e1-b4a1938e6b57",
   "metadata": {},
   "source": [
    "trying to access the index 5 in my_list raises an IndexError because the list has only three elements."
   ]
  },
  {
   "cell_type": "markdown",
   "id": "4293fb2e-5ac0-47cb-a0bf-1c9f5c878088",
   "metadata": {},
   "source": [
    "Q5. Explain ImportError. What is ModuleNotFoundError?"
   ]
  },
  {
   "cell_type": "markdown",
   "id": "deed543b-0755-481f-bdf1-4783c8a16ce2",
   "metadata": {},
   "source": [
    "ImportError is a built-in exception in Python that is raised when an import statement fails to import a module\n",
    "The reasons are\n",
    "1)The module or a component of the module  does not exist.\n",
    "2)There is an error within the module that prevents it from being loaded.\n",
    "3)The module is not in the Python path\n",
    "\n",
    "modulenotFoundError\n",
    "ModuleNotFoundError is a subclass of ImportError that was introduced in Python . It specifically occurs when a module cannot be found during an import statement. Essentially, it is a more specific version of ImportError that deals only with the case where the module is not found.\n"
   ]
  },
  {
   "cell_type": "markdown",
   "id": "b137c5df-5844-4c3b-8f8a-c5b7279af7ac",
   "metadata": {},
   "source": [
    " Q6. List down some best practices for exception handling in python. "
   ]
  },
  {
   "cell_type": "markdown",
   "id": "f071d8d4-4b47-4208-a711-62e74a289e9c",
   "metadata": {},
   "source": [
    "# 1)Avoid Bare except\n",
    "2)Use finally for Cleanup\n",
    "3)Avoid Swallowing Exceptions\n",
    "4)Use raise to Re-raise Exceptions\n"
   ]
  },
  {
   "cell_type": "code",
   "execution_count": null,
   "id": "d4b63a02-dfc2-4867-9a61-42f74e4a04e4",
   "metadata": {},
   "outputs": [],
   "source": []
  }
 ],
 "metadata": {
  "kernelspec": {
   "display_name": "Python 3 (ipykernel)",
   "language": "python",
   "name": "python3"
  },
  "language_info": {
   "codemirror_mode": {
    "name": "ipython",
    "version": 3
   },
   "file_extension": ".py",
   "mimetype": "text/x-python",
   "name": "python",
   "nbconvert_exporter": "python",
   "pygments_lexer": "ipython3",
   "version": "3.10.8"
  }
 },
 "nbformat": 4,
 "nbformat_minor": 5
}
